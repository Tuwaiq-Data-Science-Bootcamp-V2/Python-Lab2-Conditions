{
 "cells": [
  {
   "cell_type": "code",
   "execution_count": 7,
   "id": "0be70809",
   "metadata": {},
   "outputs": [
    {
     "name": "stdout",
     "output_type": "stream",
     "text": [
      "Highly recommended\n"
     ]
    }
   ],
   "source": [
    "movie = \"Home Alone\"\n",
    "movieRate = 3\n",
    "popularityScore = 72.65\n",
    "\n",
    "if movieRate >= 4 and popularityScore > 80 :\n",
    "    print(\"Highly recommended\")\n",
    "elif movieRate >= 3 and popularityScore > 70 :\n",
    "    print(\"I recommended it, It is good\")\n",
    "elif movieRate <= 2 and popularityScore > 60 :\n",
    "    print(\"You should check it out!\")\n",
    "elif movieRate <= 2 and popularityScore < 50 :\n",
    "    print(\"Don't watch it, It is a waste of time\")\n",
    "    \n"
   ]
  },
  {
   "cell_type": "code",
   "execution_count": null,
   "id": "38ebe913",
   "metadata": {},
   "outputs": [],
   "source": []
  }
 ],
 "metadata": {
  "kernelspec": {
   "display_name": "Python 3 (ipykernel)",
   "language": "python",
   "name": "python3"
  },
  "language_info": {
   "codemirror_mode": {
    "name": "ipython",
    "version": 3
   },
   "file_extension": ".py",
   "mimetype": "text/x-python",
   "name": "python",
   "nbconvert_exporter": "python",
   "pygments_lexer": "ipython3",
   "version": "3.9.13"
  }
 },
 "nbformat": 4,
 "nbformat_minor": 5
}
