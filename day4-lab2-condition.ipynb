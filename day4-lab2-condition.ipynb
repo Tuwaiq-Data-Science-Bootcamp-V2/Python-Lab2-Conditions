{
 "cells": [
  {
   "cell_type": "code",
   "execution_count": 2,
   "id": "b5dcd265",
   "metadata": {},
   "outputs": [
    {
     "name": "stdout",
     "output_type": "stream",
     "text": [
      "I recommend it, it is good\n"
     ]
    }
   ],
   "source": [
    "# The name of the movie along with its rating and popularity score\n",
    "movie = 'paris, texas'\n",
    "rating = 3\n",
    "popularity = 72.65\n",
    "\n",
    "if rating >= 4 and popularity > 80:\n",
    "    print('highly recommended')\n",
    "elif rating >= 3 and popularity > 70:\n",
    "    print('I recommend it, it is good')\n",
    "elif rating <= 2 and popularity > 60:\n",
    "    print('you should check it out!')\n",
    "else:\n",
    "    print(\"don't watch it, it is a waste of time\")"
   ]
  }
 ],
 "metadata": {
  "kernelspec": {
   "display_name": "Python 3 (ipykernel)",
   "language": "python",
   "name": "python3"
  },
  "language_info": {
   "codemirror_mode": {
    "name": "ipython",
    "version": 3
   },
   "file_extension": ".py",
   "mimetype": "text/x-python",
   "name": "python",
   "nbconvert_exporter": "python",
   "pygments_lexer": "ipython3",
   "version": "3.9.1"
  }
 },
 "nbformat": 4,
 "nbformat_minor": 5
}
