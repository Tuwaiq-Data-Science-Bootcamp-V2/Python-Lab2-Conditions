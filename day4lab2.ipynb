{
 "cells": [
  {
   "cell_type": "code",
   "execution_count": 20,
   "metadata": {},
   "outputs": [],
   "source": [
    "# I created dictionary of movie1, movie2, movie3 , movie4\n",
    "# I defined the name of movie with key 'name' and the rating with 'rate' and popularity with 'popularity key'\n",
    "movie1={'name':'Batman', 'rating':3,'popularity':75.0}\n",
    "movie2 = {'name':'Superman', 'rating':4,'popularity':80.0}\n",
    "movie3 = {'name':'Spider-Man', 'rating':2,'popularity':60.0}\n",
    "movie4 = {'name':'Ant Man', 'rating':2,'popularity':50.0}\n",
    "movie5 = {'name':'Sponge Bob', 'rating':1,'popularity':40.0}\n",
    "\n"
   ]
  },
  {
   "cell_type": "code",
   "execution_count": 21,
   "metadata": {},
   "outputs": [
    {
     "name": "stdout",
     "output_type": "stream",
     "text": [
      "[{'name': 'Batman', 'rating': 3, 'popularity': 75.0}, {'name': 'Superman', 'rating': 4, 'popularity': 80.0}, {'name': 'Spider-Man', 'rating': 2, 'popularity': 60.0}, {'name': 'Ant Man', 'rating': 2, 'popularity': 50.0}, {'name': 'Sponge Bob', 'rating': 1, 'popularity': 40.0}]\n"
     ]
    }
   ],
   "source": [
    "# The I add the to a list 'movies' to save them on one list\n",
    "movies = [movie1,movie2,movie3,movie4,movie5]\n",
    "print(movies)"
   ]
  },
  {
   "cell_type": "code",
   "execution_count": 26,
   "metadata": {},
   "outputs": [],
   "source": [
    "# This is a function to recommend a movie to a friend, the input should dict has 'name', 'rating' and 'popularity' keys\n",
    "def recommend(movie):\n",
    "    if movie['rating'] >=4 and movie['popularity'] >= 80.0:\n",
    "        print('I highly recommend', movie['name'])\n",
    "    elif movie['rating'] >=3 and movie['popularity'] >= 70.0:\n",
    "        print('I recommend',movie['name'], ',It is good')\n",
    "    elif movie['rating'] >=2 and movie['popularity'] >= 60.0:\n",
    "        print('You should check', movie['name'],'out')\n",
    "    elif movie['rating'] >=2 and movie['popularity'] >= 50.0:\n",
    "        print(\"Don't watch\",movie['name'],\",It is a waste of time\")\n",
    "    else:\n",
    "        print(movie['name'],'????')\n",
    "        print(\"Run Away!!!\")"
   ]
  },
  {
   "cell_type": "code",
   "execution_count": 27,
   "metadata": {},
   "outputs": [
    {
     "name": "stdout",
     "output_type": "stream",
     "text": [
      "I recommend Batman ,It is good\n"
     ]
    }
   ],
   "source": [
    "recommend(movie1)"
   ]
  },
  {
   "cell_type": "code",
   "execution_count": 28,
   "metadata": {},
   "outputs": [
    {
     "name": "stdout",
     "output_type": "stream",
     "text": [
      "Sponge Bob ????\n",
      "Run Away!!!\n"
     ]
    }
   ],
   "source": [
    "recommend(movie5)"
   ]
  },
  {
   "cell_type": "code",
   "execution_count": 24,
   "metadata": {},
   "outputs": [
    {
     "name": "stdout",
     "output_type": "stream",
     "text": [
      "I recommend Batman ,It is good\n",
      "I highly recommend Superman\n",
      "You should check Spider-Man out\n",
      "Don't watch Ant Man ,It is a waste of time\n",
      "Sponge Bob ????\n",
      "Run Away!!!\n"
     ]
    }
   ],
   "source": [
    "# Just an itration for all movies in the list\n",
    "for movie in movies:\n",
    "    if movie['rating'] >=4 and movie['popularity'] >= 80.0:\n",
    "        print('I highly recommend', movie['name'])\n",
    "    elif movie['rating'] >=3 and movie['popularity'] >= 70.0:\n",
    "        print('I recommend',movie['name'], ',It is good')\n",
    "    elif movie['rating'] >=2 and movie['popularity'] >= 60.0:\n",
    "        print('You should check', movie['name'],'out')\n",
    "    elif movie['rating'] >=2 and movie['popularity'] >= 50.0:\n",
    "        print(\"Don't watch\",movie['name'],\",It is a waste of time\")\n",
    "    else:\n",
    "        print(movie['name'],'????')\n",
    "        print(\"Run Away!!!\")"
   ]
  },
  {
   "cell_type": "code",
   "execution_count": null,
   "metadata": {},
   "outputs": [],
   "source": []
  },
  {
   "cell_type": "code",
   "execution_count": null,
   "metadata": {},
   "outputs": [],
   "source": []
  }
 ],
 "metadata": {
  "kernelspec": {
   "display_name": "Python 3",
   "language": "python",
   "name": "python3"
  },
  "language_info": {
   "codemirror_mode": {
    "name": "ipython",
    "version": 3
   },
   "file_extension": ".py",
   "mimetype": "text/x-python",
   "name": "python",
   "nbconvert_exporter": "python",
   "pygments_lexer": "ipython3",
   "version": "3.7.6"
  }
 },
 "nbformat": 4,
 "nbformat_minor": 4
}
